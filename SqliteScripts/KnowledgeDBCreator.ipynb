{
 "cells": [
  {
   "cell_type": "code",
   "execution_count": 6,
   "metadata": {},
   "outputs": [
    {
     "name": "stdout",
     "output_type": "stream",
     "text": [
      "['挑戦', 'ちょうせん', 'tobira', 'n3', '0']\n"
     ]
    }
   ],
   "source": [
    "\n",
    "import sqlite3\n",
    "\n",
    "import unicodecsv\n",
    "\n",
    "\n",
    "con = sqlite3.connect('knowledge.db')\n",
    "cur = con.cursor()\n",
    "cur.execute(\"DROP TABLE IF EXISTS knowledge\")\n",
    "\n",
    "cur.execute(\"CREATE TABLE knowledge(id INTEGER PRIMARY KEY AUTOINCREMENT, \\\n",
    "            word TEXT, reading TEXT, book TEXT, jlptlvl TEXT, isknown BOOLEAN NOT NULL CHECK (isknown IN (0, 1)))\")\n",
    "\n",
    "\n",
    "with open(r'C:\\Users\\twmea\\Documents\\gatech\\educational technology\\code downloads\\knowledgeDB.txt', 'rb') as input_file:\n",
    "    reader = unicodecsv.reader(input_file, delimiter=\",\")\n",
    "    headers = next(reader, [])\n",
    "    data = [row for row in reader]\n",
    "    print(data[0])\n",
    "cur.executemany(\"INSERT INTO knowledge (word, reading, book, jlptlvl, isknown) VALUES (?, ?, ?, ?, ?);\", data)\n",
    "con.commit()"
   ]
  },
  {
   "cell_type": "code",
   "execution_count": 8,
   "metadata": {},
   "outputs": [
    {
     "name": "stdout",
     "output_type": "stream",
     "text": [
      "(2, '選手', 'せんしゅ', 'genki ii', 'n4', 1)\n"
     ]
    }
   ],
   "source": [
    "cur.execute(\"SELECT * from knowledge where word = '選手' and reading = 'せんしゅ'\")\n",
    "rows = cur.fetchall()\n",
    "for row in rows:\n",
    "    print(row)"
   ]
  }
 ],
 "metadata": {
  "kernelspec": {
   "display_name": "Python 3",
   "language": "python",
   "name": "python3"
  },
  "language_info": {
   "codemirror_mode": {
    "name": "ipython",
    "version": 3
   },
   "file_extension": ".py",
   "mimetype": "text/x-python",
   "name": "python",
   "nbconvert_exporter": "python",
   "pygments_lexer": "ipython3",
   "version": "3.8.3"
  }
 },
 "nbformat": 4,
 "nbformat_minor": 4
}
