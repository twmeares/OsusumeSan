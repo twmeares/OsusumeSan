{
 "cells": [
  {
   "cell_type": "markdown",
   "metadata": {},
   "source": [
    "This is the standard update query used in the android App            \n",
    "            String query = String.format(\"insert or replace into knowledge (word, reading, book, jlptlvl, isknown) \" +\n",
    "                            \"values ('%s', \" +\n",
    "                            \"'%s', \" +\n",
    "                            \"(select book from knowledge where word = '%s' and reading = '%s'), \" +\n",
    "                            \"(select jlptlvl from knowledge where word = '%s' and reading = '%s'), \" +\n",
    "                            \"%d)\",\n",
    "                        word, reading, word, reading, word, reading, (isKnown ? 1: 0));"
   ]
  },
  {
   "cell_type": "code",
   "execution_count": 59,
   "metadata": {},
   "outputs": [],
   "source": [
    "#data format is word, word, book, word, jlptlvl, isknown\n",
    "query = \"INSERT OR REPLACE INTO knowledge (word, book, jlptlvl, isknown) \\\n",
    "    VALUES (?, \\\n",
    "    IFNULL((select book from knowledge where word = ?), '') || ' ' || ?, \\\n",
    "    IFNULL((select jlptlvl from knowledge where word = ?), '') || ' ' || ?, \\\n",
    "    ?);\""
   ]
  },
  {
   "cell_type": "code",
   "execution_count": 47,
   "metadata": {},
   "outputs": [],
   "source": [
    "\n",
    "import sqlite3\n",
    "\n",
    "import unicodecsv\n",
    "\n",
    "import toolz"
   ]
  },
  {
   "cell_type": "code",
   "execution_count": 60,
   "metadata": {},
   "outputs": [],
   "source": [
    "\n",
    "\n",
    "con = sqlite3.connect('knowledge.db')\n",
    "cur = con.cursor()\n"
   ]
  },
  {
   "cell_type": "code",
   "execution_count": 61,
   "metadata": {},
   "outputs": [
    {
     "data": {
      "text/plain": [
       "<sqlite3.Cursor at 0x21cdd6bd730>"
      ]
     },
     "execution_count": 61,
     "metadata": {},
     "output_type": "execute_result"
    }
   ],
   "source": [
    "cur.execute(\"DROP TABLE IF EXISTS knowledge\")\n",
    "\n",
    "#cur.execute(\"CREATE TABLE knowledge( \\\n",
    "#            word TEXT PRIMARY KEY, reading TEXT, book TEXT, jlptlvl TEXT, isknown BOOLEAN NOT NULL CHECK (isknown IN (0, 1)))\")\n",
    "cur.execute(\"CREATE TABLE knowledge( \\\n",
    "            word TEXT PRIMARY KEY, book TEXT, jlptlvl TEXT, isknown BOOLEAN NOT NULL CHECK (isknown IN (0, 1)))\")\n"
   ]
  },
  {
   "cell_type": "code",
   "execution_count": 62,
   "metadata": {},
   "outputs": [
    {
     "name": "stdout",
     "output_type": "stream",
     "text": [
      "('平和', '平和', 'tobira', '平和', '', 0)\n"
     ]
    }
   ],
   "source": [
    "cur = con.cursor()\n",
    "book = 'tobira'\n",
    "jlptlvl = ''\n",
    "isknown = 0\n",
    "with open(r'tobira L1 combined.csv', 'rb') as input_file:\n",
    "    reader = unicodecsv.reader(input_file, delimiter=\",\")\n",
    "    headers = next(reader, [])\n",
    "    data = [(row[0], row[0], book, row[0], jlptlvl, isknown) for row in reader]\n",
    "    print(data[0])\n",
    "data = list(toolz.unique(data, key=lambda x: x[0]))\n",
    "cur.executemany(query, data)\n",
    "con.commit()"
   ]
  },
  {
   "cell_type": "code",
   "execution_count": 64,
   "metadata": {},
   "outputs": [
    {
     "name": "stdout",
     "output_type": "stream",
     "text": [
      "('平和', ' tobira', ' ', 0)\n"
     ]
    }
   ],
   "source": [
    "cur.execute(\"SELECT * from knowledge where word = '平和'\")\n",
    "rows = cur.fetchall()\n",
    "for row in rows:\n",
    "    print(row)"
   ]
  },
  {
   "cell_type": "code",
   "execution_count": 65,
   "metadata": {},
   "outputs": [
    {
     "name": "stdout",
     "output_type": "stream",
     "text": [
      "('あくどい', 'あくどい', '', 'あくどい', 'n1', 0)\n"
     ]
    }
   ],
   "source": [
    "cur = con.cursor()\n",
    "book = ''\n",
    "jlptlvl = 'n1'\n",
    "isknown = 0\n",
    "with open(r'n1.csv', 'rb') as input_file:\n",
    "    reader = unicodecsv.reader(input_file, delimiter=\",\")\n",
    "    #headers = next(reader, [])\n",
    "    data = [(row[1], row[1], book, row[1], jlptlvl, isknown) for row in reader]\n",
    "    print(data[0])\n",
    "data = list(toolz.unique(data, key=lambda x: x[0]))\n",
    "cur.executemany(query, data)\n",
    "con.commit()"
   ]
  },
  {
   "cell_type": "code",
   "execution_count": 66,
   "metadata": {},
   "outputs": [
    {
     "name": "stdout",
     "output_type": "stream",
     "text": [
      "('あくどい', ' ', ' n1', 0)\n"
     ]
    }
   ],
   "source": [
    "cur.execute(\"SELECT * from knowledge where word = 'あくどい'\")\n",
    "rows = cur.fetchall()\n",
    "for row in rows:\n",
    "    print(row)"
   ]
  },
  {
   "cell_type": "code",
   "execution_count": 67,
   "metadata": {},
   "outputs": [
    {
     "name": "stdout",
     "output_type": "stream",
     "text": [
      "('題名', '題名', '', '題名', 'n2', 0)\n"
     ]
    }
   ],
   "source": [
    "cur = con.cursor()\n",
    "book = ''\n",
    "jlptlvl = 'n2'\n",
    "isknown = 0\n",
    "with open(r'n2.csv', 'rb') as input_file:\n",
    "    reader = unicodecsv.reader(input_file, delimiter=\",\")\n",
    "    #headers = next(reader, [])\n",
    "    data = [(row[1], row[1], book, row[1], jlptlvl, isknown) for row in reader]\n",
    "    print(data[0])\n",
    "data = list(toolz.unique(data, key=lambda x: x[0]))\n",
    "cur.executemany(query, data)\n",
    "con.commit()"
   ]
  },
  {
   "cell_type": "code",
   "execution_count": 68,
   "metadata": {},
   "outputs": [
    {
     "name": "stdout",
     "output_type": "stream",
     "text": [
      "('合図', '合図', '', '合図', 'n3', 0)\n"
     ]
    }
   ],
   "source": [
    "cur = con.cursor()\n",
    "book = ''\n",
    "jlptlvl = 'n3'\n",
    "isknown = 0\n",
    "with open(r'n3.csv', 'rb') as input_file:\n",
    "    reader = unicodecsv.reader(input_file, delimiter=\",\")\n",
    "    #headers = next(reader, [])\n",
    "    data = [(row[1], row[1], book, row[1], jlptlvl, isknown) for row in reader]\n",
    "    print(data[0])\n",
    "data = list(toolz.unique(data, key=lambda x: x[0]))\n",
    "cur.executemany(query, data)\n",
    "con.commit()"
   ]
  },
  {
   "cell_type": "code",
   "execution_count": 69,
   "metadata": {},
   "outputs": [
    {
     "name": "stdout",
     "output_type": "stream",
     "text": [
      "('雲', '雲', '', '雲', 'n4', 0)\n"
     ]
    }
   ],
   "source": [
    "cur = con.cursor()\n",
    "book = ''\n",
    "jlptlvl = 'n4'\n",
    "isknown = 0\n",
    "with open(r'n4.csv', 'rb') as input_file:\n",
    "    reader = unicodecsv.reader(input_file, delimiter=\",\")\n",
    "    #headers = next(reader, [])\n",
    "    data = [(row[1], row[1], book, row[1], jlptlvl, isknown) for row in reader]\n",
    "    print(data[0])\n",
    "data = list(toolz.unique(data, key=lambda x: x[0]))\n",
    "cur.executemany(query, data)\n",
    "con.commit()"
   ]
  },
  {
   "cell_type": "code",
   "execution_count": 70,
   "metadata": {},
   "outputs": [
    {
     "name": "stdout",
     "output_type": "stream",
     "text": [
      "('毎朝', '毎朝', '', '毎朝', 'n5', 0)\n"
     ]
    }
   ],
   "source": [
    "cur = con.cursor()\n",
    "book = ''\n",
    "jlptlvl = 'n5'\n",
    "isknown = 0\n",
    "with open(r'n5.csv', 'rb') as input_file:\n",
    "    reader = unicodecsv.reader(input_file, delimiter=\",\")\n",
    "    #headers = next(reader, [])\n",
    "    data = [(row[1], row[1], book, row[1], jlptlvl, isknown) for row in reader]\n",
    "    print(data[0])\n",
    "data = list(toolz.unique(data, key=lambda x: x[0]))\n",
    "cur.executemany(query, data)\n",
    "con.commit()"
   ]
  },
  {
   "cell_type": "code",
   "execution_count": 71,
   "metadata": {},
   "outputs": [
    {
     "name": "stdout",
     "output_type": "stream",
     "text": [
      "('アイスクリーム', 'アイスクリーム', 'genki_1', 'アイスクリーム', '', 0)\n"
     ]
    }
   ],
   "source": [
    "cur = con.cursor()\n",
    "book = 'genki_1'\n",
    "jlptlvl = ''\n",
    "isknown = 0\n",
    "with open(r'genki 1 word.txt', 'rb') as input_file:\n",
    "    reader = unicodecsv.reader(input_file, delimiter=\"\\n\")\n",
    "    #headers = next(reader, [])\n",
    "    data = [(row[0], row[0], book, row[0], jlptlvl, isknown) for row in reader]\n",
    "    print(data[0])\n",
    "data = list(toolz.unique(data, key=lambda x: x[0]))\n",
    "cur.executemany(query, data)\n",
    "con.commit()"
   ]
  },
  {
   "cell_type": "code",
   "execution_count": 72,
   "metadata": {},
   "outputs": [
    {
     "name": "stdout",
     "output_type": "stream",
     "text": [
      "('相変わらず', '相変わらず', 'genki_2', '相変わらず', '', 0)\n"
     ]
    }
   ],
   "source": [
    "cur = con.cursor()\n",
    "book = 'genki_2'\n",
    "jlptlvl = ''\n",
    "isknown = 0\n",
    "with open(r'genki 2 word.txt', 'rb') as input_file:\n",
    "    reader = unicodecsv.reader(input_file, delimiter=\"\\n\")\n",
    "    #headers = next(reader, [])\n",
    "    data = [(row[0], row[0], book, row[0], jlptlvl, isknown) for row in reader]\n",
    "    print(data[0])\n",
    "data = list(toolz.unique(data, key=lambda x: x[0]))\n",
    "cur.executemany(query, data)\n",
    "con.commit()"
   ]
  },
  {
   "cell_type": "code",
   "execution_count": 73,
   "metadata": {},
   "outputs": [],
   "source": [
    "con.close()"
   ]
  }
 ],
 "metadata": {
  "kernelspec": {
   "display_name": "Python 3",
   "language": "python",
   "name": "python3"
  },
  "language_info": {
   "codemirror_mode": {
    "name": "ipython",
    "version": 3
   },
   "file_extension": ".py",
   "mimetype": "text/x-python",
   "name": "python",
   "nbconvert_exporter": "python",
   "pygments_lexer": "ipython3",
   "version": "3.8.3"
  }
 },
 "nbformat": 4,
 "nbformat_minor": 4
}
