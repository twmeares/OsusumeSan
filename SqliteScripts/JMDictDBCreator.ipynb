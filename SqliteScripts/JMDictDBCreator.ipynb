{
 "cells": [
  {
   "cell_type": "code",
   "execution_count": 8,
   "metadata": {},
   "outputs": [],
   "source": [
    "\n",
    "import sqlite3\n",
    "\n",
    "import unicodecsv\n",
    "\n",
    "\n",
    "con = sqlite3.connect('jmdict.db')\n",
    "cur = con.cursor()\n",
    "cur.execute(\"DROP TABLE JMDict\")\n",
    "\n",
    "cur.execute(\"CREATE TABLE JMDict(word TEXT, reading TEXT, furigana TEXT, PRIMARY KEY (word, reading, furigana))\")\n",
    "\n",
    "\n",
    "with open(r'C:\\Users\\twmea\\Documents\\gatech\\educational technology\\code downloads\\JmdictFurigana.txt', 'rb') as input_file:\n",
    "    reader = unicodecsv.reader(input_file, delimiter=\"|\")\n",
    "    data = [row for row in reader]\n",
    "    #print(data)\n",
    "cur.executemany(\"INSERT INTO JMDict (word, reading, furigana) VALUES (?, ?, ?);\", data)\n",
    "con.commit()"
   ]
  },
  {
   "cell_type": "code",
   "execution_count": 17,
   "metadata": {},
   "outputs": [
    {
     "name": "stdout",
     "output_type": "stream",
     "text": [
      "('行く', 'いく', '0:い')\n"
     ]
    }
   ],
   "source": [
    "cur.execute(\"SELECT * from JMDict where word = '行く' and reading = 'いく'\")\n",
    "rows = cur.fetchall()\n",
    "for row in rows:\n",
    "    print(row)"
   ]
  }
 ],
 "metadata": {
  "kernelspec": {
   "display_name": "Python 3",
   "language": "python",
   "name": "python3"
  },
  "language_info": {
   "codemirror_mode": {
    "name": "ipython",
    "version": 3
   },
   "file_extension": ".py",
   "mimetype": "text/x-python",
   "name": "python",
   "nbconvert_exporter": "python",
   "pygments_lexer": "ipython3",
   "version": "3.8.3"
  }
 },
 "nbformat": 4,
 "nbformat_minor": 4
}
